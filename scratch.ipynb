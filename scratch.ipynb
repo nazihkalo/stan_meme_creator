{
 "cells": [
  {
   "cell_type": "code",
   "execution_count": 5,
   "metadata": {},
   "outputs": [],
   "source": [
    "import requests\n",
    "from PIL import Image, ImageDraw, ImageFont\n",
    "import io\n",
    "from textwrap import wrap\n",
    "from typing import Tuple\n",
    "image_url = \"https://stan-tek.nyc3.cdn.digitaloceanspaces.com/memelibrary/78newlogo_trump.jpg\"\n",
    "text = \"This is a test\"\n",
    "def _calculate_font_size(img: Image.Image, text: str, max_width_ratio: float = 0.9) -> Tuple[ImageFont.FreeTypeFont, int]:\n",
    "        \"\"\"\n",
    "        Calculate the optimal font size for the text to fit the image width.\n",
    "        \n",
    "        Args:\n",
    "            img: The image to add text to\n",
    "            text: The text to add\n",
    "            max_width_ratio: Maximum width of text relative to image width\n",
    "            \n",
    "        Returns:\n",
    "            Tuple of (font, wrapped_text_lines)\n",
    "        \"\"\"\n",
    "        # Start with a larger base size - 1/8 of image height instead of 1/5\n",
    "        target_height = img.height // 8\n",
    "        max_width = int(img.width * max_width_ratio)\n",
    "        \n",
    "        # Binary search for optimal font size\n",
    "        min_size = 10\n",
    "        max_size = target_height\n",
    "        optimal_font = None\n",
    "        optimal_wrapped_text = None\n",
    "        \n",
    "        while min_size <= max_size:\n",
    "            current_size = (min_size + max_size) // 2\n",
    "            try:\n",
    "                font = ImageFont.truetype(\"arial.ttf\", current_size)\n",
    "            except:\n",
    "                font = ImageFont.load_default(size=current_size)\n",
    "                \n",
    "            # Calculate wrapped text\n",
    "            avg_char_width = font.getlength('x')\n",
    "            chars_per_line = max(1, int(max_width / avg_char_width))\n",
    "            wrapped_text = wrap(text, width=chars_per_line)\n",
    "            \n",
    "            # Check if text fits width and doesn't exceed height\n",
    "            max_line_width = max(font.getlength(line) for line in wrapped_text)\n",
    "            total_height = len(wrapped_text) * (font.size + 10)  # Add padding between lines\n",
    "            \n",
    "            if max_line_width <= max_width and total_height <= target_height * 2:\n",
    "                optimal_font = font\n",
    "                optimal_wrapped_text = wrapped_text\n",
    "                min_size = current_size + 1  # Try larger size\n",
    "            else:\n",
    "                max_size = current_size - 1  # Try smaller size\n",
    "        \n",
    "        if optimal_font is None:\n",
    "            return ImageFont.load_default(), wrap(text, width=30)\n",
    "        \n",
    "        return optimal_font, optimal_wrapped_text\n",
    "\n",
    "# Download image\n",
    "response = requests.get(image_url)\n",
    "img = Image.open(io.BytesIO(response.content))\n",
    "\n",
    "# Convert to RGBA if necessary\n",
    "if img.mode != 'RGBA':\n",
    "    img = img.convert('RGBA')\n",
    "\n",
    "# Create drawing context\n",
    "draw = ImageDraw.Draw(img)\n",
    "\n",
    "# Calculate font size and wrap text\n",
    "font, wrapped_text = _calculate_font_size(img, text)\n",
    "\n",
    "# Calculate text positions\n",
    "line_height = int(font.size * 1.2)  # Increased line spacing\n",
    "total_height = len(wrapped_text) * line_height\n",
    "\n",
    "# Position text near top with padding\n",
    "top_padding = img.height * 0.02  # Reduced top padding to 2% of image height\n",
    "y = top_padding\n",
    "\n",
    "# Draw each line of text\n",
    "for line in wrapped_text:\n",
    "    # Calculate center position for this line\n",
    "    text_width = draw.textlength(line, font=font)\n",
    "    x = (img.width - text_width) / 2\n",
    "    \n",
    "    # Draw text outline\n",
    "    outline_color = \"black\"\n",
    "    outline_width = max(2, font.size // 12)  # Increased minimum outline width\n",
    "    \n",
    "    # Thicker outline for better visibility\n",
    "    for dx in range(-outline_width, outline_width + 1):\n",
    "        for dy in range(-outline_width, outline_width + 1):\n",
    "            draw.text((x + dx, y + dy), line, font=font, fill=outline_color)\n",
    "    \n",
    "    # Draw main text\n",
    "    draw.text((x, y), line, font=font, fill=\"white\")\n",
    "    \n",
    "    # Move to next line\n",
    "    y += line_height\n",
    "\n"
   ]
  },
  {
   "cell_type": "code",
   "execution_count": 6,
   "metadata": {},
   "outputs": [],
   "source": [
    "# Display image with text\n",
    "img.show()"
   ]
  },
  {
   "cell_type": "code",
   "execution_count": 4,
   "metadata": {},
   "outputs": [
    {
     "data": {
      "text/plain": [
       "<PIL.ImageFont.FreeTypeFont at 0x105c23680>"
      ]
     },
     "execution_count": 4,
     "metadata": {},
     "output_type": "execute_result"
    }
   ],
   "source": [
    "font."
   ]
  },
  {
   "cell_type": "code",
   "execution_count": null,
   "metadata": {},
   "outputs": [],
   "source": []
  }
 ],
 "metadata": {
  "kernelspec": {
   "display_name": ".venv",
   "language": "python",
   "name": "python3"
  },
  "language_info": {
   "codemirror_mode": {
    "name": "ipython",
    "version": 3
   },
   "file_extension": ".py",
   "mimetype": "text/x-python",
   "name": "python",
   "nbconvert_exporter": "python",
   "pygments_lexer": "ipython3",
   "version": "3.12.7"
  }
 },
 "nbformat": 4,
 "nbformat_minor": 2
}
